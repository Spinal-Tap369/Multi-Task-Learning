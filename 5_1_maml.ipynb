{
  "nbformat": 4,
  "nbformat_minor": 0,
  "metadata": {
    "colab": {
      "provenance": [],
      "gpuType": "T4",
      "include_colab_link": true
    },
    "kernelspec": {
      "name": "python3",
      "display_name": "Python 3"
    },
    "language_info": {
      "name": "python"
    },
    "accelerator": "GPU"
  },
  "cells": [
    {
      "cell_type": "markdown",
      "metadata": {
        "id": "view-in-github",
        "colab_type": "text"
      },
      "source": [
        "<a href=\"https://colab.research.google.com/github/Spinal-Tap369/Multi-Task-Learning/blob/main/5_1_maml.ipynb\" target=\"_parent\"><img src=\"https://colab.research.google.com/assets/colab-badge.svg\" alt=\"Open In Colab\"/></a>"
      ]
    },
    {
      "cell_type": "markdown",
      "source": [
        "Importing all necessary libraries and pytorch"
      ],
      "metadata": {
        "id": "phsaqotY7fUE"
      }
    },
    {
      "cell_type": "code",
      "source": [
        "import numpy as np\n",
        "import matplotlib.pyplot as plt\n",
        "import torch\n",
        "import torch.nn as nn\n",
        "import torch.optim as optim\n",
        "from torchvision import transforms\n",
        "from torch.utils.data import Dataset, DataLoader\n",
        "import random\n",
        "import os\n",
        "from PIL import Image\n",
        "from tqdm.notebook import tqdm"
      ],
      "metadata": {
        "id": "pSW00LCXfYVM"
      },
      "execution_count": 14,
      "outputs": []
    },
    {
      "cell_type": "markdown",
      "source": [
        "Using the GPU saves time!"
      ],
      "metadata": {
        "id": "lpv2lO8I728C"
      }
    },
    {
      "cell_type": "code",
      "source": [
        "# Set device to use GPU if available\n",
        "device = torch.device('cuda' if torch.cuda.is_available() else 'cpu')\n",
        "print(f'Using device: {device}')"
      ],
      "metadata": {
        "colab": {
          "base_uri": "https://localhost:8080/"
        },
        "id": "B81_pTNhjmuE",
        "outputId": "33a703f7-ecc9-4081-b52b-6ce7bf79b2c1"
      },
      "execution_count": 2,
      "outputs": [
        {
          "output_type": "stream",
          "name": "stdout",
          "text": [
            "Using device: cuda\n"
          ]
        }
      ]
    },
    {
      "cell_type": "markdown",
      "source": [
        "Downloading the Omniglot Dataset"
      ],
      "metadata": {
        "id": "3wUU3Vj077QM"
      }
    },
    {
      "cell_type": "code",
      "source": [
        "!wget -q https://github.com/brendenlake/omniglot/raw/master/python/images_background.zip\n",
        "!wget -q https://github.com/brendenlake/omniglot/raw/master/python/images_evaluation.zip\n",
        "!unzip -q images_background.zip\n",
        "!unzip -q images_evaluation.zip\n"
      ],
      "metadata": {
        "id": "9-pvGI1gju3N"
      },
      "execution_count": 3,
      "outputs": []
    },
    {
      "cell_type": "markdown",
      "source": [
        "In order for PyTorch to use this Dataset, let us set up the Dataset and Dataloader. In our case, the get_episode function will act as the dataloader. Each episode is a task during the Meta-Training process. The load_data method recursively loads the dataset's directory structure, where each alphabet has multiple characters, and each character has several image files. The get_episode method returns a support and query set for the particular task."
      ],
      "metadata": {
        "id": "p7zciE4f7-gC"
      }
    },
    {
      "cell_type": "markdown",
      "source": [
        "Dataset class"
      ],
      "metadata": {
        "id": "9KyHoo6wjysC"
      }
    },
    {
      "cell_type": "code",
      "source": [
        "class OmniglotDataset(Dataset):\n",
        "    def __init__(self, root, transform=None):\n",
        "        self.transform = transform\n",
        "        self.classes = []\n",
        "        self.class_to_images = {}\n",
        "        self._load_data(root)\n",
        "\n",
        "    def _load_data(self, root):\n",
        "        for alphabet in os.listdir(root):\n",
        "            alphabet_path = os.path.join(root, alphabet)\n",
        "            if os.path.isdir(alphabet_path):\n",
        "                for character in os.listdir(alphabet_path):\n",
        "                    character_path = os.path.join(alphabet_path, character)\n",
        "                    if os.path.isdir(character_path):\n",
        "                        images = [os.path.join(character_path, img) for img in os.listdir(character_path)]\n",
        "                        class_name = f\"{alphabet}_{character}\"\n",
        "                        self.classes.append(class_name)\n",
        "                        self.class_to_images[class_name] = images\n",
        "\n",
        "    def __len__(self):\n",
        "        return len(self.classes)\n",
        "\n",
        "    def get_episode(self, n_way, k_shot, q_query):\n",
        "        classes = random.sample(self.classes, n_way)\n",
        "        support_x = []\n",
        "        support_y = []\n",
        "        query_x = []\n",
        "        query_y = []\n",
        "        for idx, cls in enumerate(classes):\n",
        "            images = random.sample(self.class_to_images[cls], k_shot + q_query)\n",
        "            support_imgs = images[:k_shot]\n",
        "            query_imgs = images[k_shot:]\n",
        "            support_x.extend(support_imgs)\n",
        "            support_y.extend([idx] * k_shot)\n",
        "            query_x.extend(query_imgs)\n",
        "            query_y.extend([idx] * q_query)\n",
        "        # Apply transforms\n",
        "        support_set = [(self.transform(Image.open(x).convert('L')), y) for x, y in zip(support_x, support_y)]\n",
        "        query_set = [(self.transform(Image.open(x).convert('L')), y) for x, y in zip(query_x, query_y)]\n",
        "        return support_set, query_set\n"
      ],
      "metadata": {
        "id": "R3nu7St5jsyw"
      },
      "execution_count": 4,
      "outputs": []
    },
    {
      "cell_type": "markdown",
      "source": [
        "Now, let us apply transformation to our dataset and split it into training, testing and validation sets. Validation set is included to implement early stopping during our meta training process"
      ],
      "metadata": {
        "id": "Ve7HUY1y8W2b"
      }
    },
    {
      "cell_type": "markdown",
      "source": [
        "Data Transforms"
      ],
      "metadata": {
        "id": "6N_bcuvJj0pB"
      }
    },
    {
      "cell_type": "code",
      "source": [
        "# Data Transforms\n",
        "transform = transforms.Compose([\n",
        "    transforms.Resize((28, 28)),\n",
        "    transforms.ToTensor(),\n",
        "    transforms.Normalize(0.5, 0.5)\n",
        "])\n",
        "\n",
        "# Initialize the full dataset to access all classes\n",
        "full_dataset = OmniglotDataset('images_background', transform=transform)\n",
        "\n",
        "# Get the list of all class names\n",
        "all_classes = full_dataset.classes.copy()\n",
        "\n",
        "# Shuffle and split classes into training and validation sets\n",
        "random.shuffle(all_classes)\n",
        "split_idx = int(0.8 * len(all_classes))\n",
        "train_classes = all_classes[:split_idx]\n",
        "val_classes = all_classes[split_idx:]\n",
        "\n",
        "# Create the training dataset\n",
        "train_dataset = OmniglotDataset('images_background', transform=transform)\n",
        "train_dataset.classes = train_classes\n",
        "train_dataset.class_to_images = {cls: full_dataset.class_to_images[cls] for cls in train_classes}\n",
        "\n",
        "# Create the validation dataset\n",
        "val_dataset = OmniglotDataset('images_background', transform=transform)\n",
        "val_dataset.classes = val_classes\n",
        "val_dataset.class_to_images = {cls: full_dataset.class_to_images[cls] for cls in val_classes}\n",
        "\n",
        "# Initialize the test dataset\n",
        "test_dataset = OmniglotDataset('images_evaluation', transform=transform)\n",
        "\n",
        "# Verify the class counts\n",
        "print(f'Total training classes: {len(train_dataset.classes)}')\n",
        "print(f'Total validation classes: {len(val_dataset.classes)}')\n",
        "print(f'Total testing classes: {len(test_dataset.classes)}')\n"
      ],
      "metadata": {
        "colab": {
          "base_uri": "https://localhost:8080/"
        },
        "id": "tvhIlBCYjv3V",
        "outputId": "d4df78ea-0b3a-4419-f24d-5040e570ff51"
      },
      "execution_count": 5,
      "outputs": [
        {
          "output_type": "stream",
          "name": "stdout",
          "text": [
            "Total training classes: 771\n",
            "Total validation classes: 193\n",
            "Total testing classes: 659\n"
          ]
        }
      ]
    },
    {
      "cell_type": "markdown",
      "source": [
        "Now let's create a CNN encoder to extract features from the images. The network is designed to reduce the spatial dimensions of the input image while increasing the depth."
      ],
      "metadata": {
        "id": "HSZ-MWapj__7"
      }
    },
    {
      "cell_type": "code",
      "source": [
        "class CNNEncoder(nn.Module):\n",
        "    def __init__(self, hidden_size=64):\n",
        "        super(CNNEncoder, self).__init__()\n",
        "        self.layer1 = nn.Sequential(\n",
        "            nn.Conv2d(1, hidden_size, kernel_size=3, padding=1),\n",
        "            nn.BatchNorm2d(hidden_size),\n",
        "            nn.ReLU(),\n",
        "            nn.MaxPool2d(2)\n",
        "        )\n",
        "        self.layer2 = nn.Sequential(\n",
        "            nn.Conv2d(hidden_size, hidden_size, kernel_size=3, padding=1),\n",
        "            nn.BatchNorm2d(hidden_size),\n",
        "            nn.ReLU(),\n",
        "            nn.MaxPool2d(2)\n",
        "        )\n",
        "        self.layer3 = nn.Sequential(\n",
        "            nn.Conv2d(hidden_size, hidden_size, kernel_size=3, padding=1),\n",
        "            nn.BatchNorm2d(hidden_size),\n",
        "            nn.ReLU(),\n",
        "            nn.MaxPool2d(2)\n",
        "        )\n",
        "        self.flatten = nn.Flatten()\n",
        "\n",
        "    def forward(self, x):\n",
        "        x = self.layer1(x)    # [seq_len, hidden_size, 14, 14]\n",
        "        x = self.layer2(x)    # [seq_len, hidden_size, 7, 7]\n",
        "        x = self.layer3(x)    # [seq_len, hidden_size, 3, 3]\n",
        "        x = self.flatten(x)   # [seq_len, hidden_size * 3 * 3]\n",
        "        return x\n"
      ],
      "metadata": {
        "id": "idNzF4VZj9RN"
      },
      "execution_count": 6,
      "outputs": []
    },
    {
      "cell_type": "markdown",
      "source": [
        "This class is a Bi Directional LSTM used for prediction the class of a character based on features passed on by the CNN. Bi Directional LSTM is used as it would consider dependencies in both directions within a sequence."
      ],
      "metadata": {
        "id": "UDHoHOeKkBTK"
      }
    },
    {
      "cell_type": "code",
      "source": [
        "class RNNMetaLearner(nn.Module):\n",
        "    def __init__(self, input_size, hidden_size, n_way):\n",
        "        super(RNNMetaLearner, self).__init__()\n",
        "        self.hidden_size = hidden_size\n",
        "        self.n_layers = 1\n",
        "        self.bidirectional = True\n",
        "        self.num_directions = 2 if self.bidirectional else 1\n",
        "\n",
        "        self.rnn = nn.LSTM(\n",
        "            input_size,\n",
        "            hidden_size,\n",
        "            num_layers=self.n_layers,\n",
        "            bidirectional=self.bidirectional,\n",
        "            batch_first=True\n",
        "        )\n",
        "        self.classifier = nn.Linear(hidden_size * self.num_directions, n_way)\n",
        "\n",
        "    def forward(self, x):\n",
        "        with torch.backends.cudnn.flags(enabled=False):\n",
        "            out, _ = self.rnn(x)  # [batch_size, seq_len, hidden_size * num_directions]\n",
        "        out = self.classifier(out)    # [batch_size, seq_len, n_way]\n",
        "        return out\n"
      ],
      "metadata": {
        "id": "EFpQy5lpkFBf"
      },
      "execution_count": 7,
      "outputs": []
    },
    {
      "cell_type": "markdown",
      "source": [
        "This MetaLearner class combines the CNN and the Bi Directional LSTM"
      ],
      "metadata": {
        "id": "bbBFQ02akIXm"
      }
    },
    {
      "cell_type": "code",
      "source": [
        "class MetaLearner(nn.Module):\n",
        "    def __init__(self, encoder, rnn_learner):\n",
        "        super(MetaLearner, self).__init__()\n",
        "        self.encoder = encoder\n",
        "        self.rnn_learner = rnn_learner\n",
        "\n",
        "    def forward(self, x):\n",
        "        features = self.encoder(x)            # [seq_len, feature_size]\n",
        "        features = features.unsqueeze(0)      # [1, seq_len, feature_size]\n",
        "        out = self.rnn_learner(features)      # [1, seq_len, n_way]\n",
        "        out = out.squeeze(0)                  # [seq_len, n_way]\n",
        "        return out\n"
      ],
      "metadata": {
        "id": "eiCwq7yvkJur"
      },
      "execution_count": 8,
      "outputs": []
    },
    {
      "cell_type": "markdown",
      "source": [
        "The higher library is used to track gradients in the inner loop."
      ],
      "metadata": {
        "id": "fqKilGOTKWDJ"
      }
    },
    {
      "cell_type": "code",
      "source": [
        "!pip install higher"
      ],
      "metadata": {
        "colab": {
          "base_uri": "https://localhost:8080/"
        },
        "id": "OSwE3ssnvQxv",
        "outputId": "385b5e52-3bee-4bd4-99c7-4b9769b694f8"
      },
      "execution_count": 9,
      "outputs": [
        {
          "output_type": "stream",
          "name": "stdout",
          "text": [
            "Collecting higher\n",
            "  Downloading higher-0.2.1-py3-none-any.whl.metadata (10 kB)\n",
            "Requirement already satisfied: torch in /usr/local/lib/python3.10/dist-packages (from higher) (2.4.0+cu121)\n",
            "Requirement already satisfied: filelock in /usr/local/lib/python3.10/dist-packages (from torch->higher) (3.16.0)\n",
            "Requirement already satisfied: typing-extensions>=4.8.0 in /usr/local/lib/python3.10/dist-packages (from torch->higher) (4.12.2)\n",
            "Requirement already satisfied: sympy in /usr/local/lib/python3.10/dist-packages (from torch->higher) (1.13.2)\n",
            "Requirement already satisfied: networkx in /usr/local/lib/python3.10/dist-packages (from torch->higher) (3.3)\n",
            "Requirement already satisfied: jinja2 in /usr/local/lib/python3.10/dist-packages (from torch->higher) (3.1.4)\n",
            "Requirement already satisfied: fsspec in /usr/local/lib/python3.10/dist-packages (from torch->higher) (2024.6.1)\n",
            "Requirement already satisfied: MarkupSafe>=2.0 in /usr/local/lib/python3.10/dist-packages (from jinja2->torch->higher) (2.1.5)\n",
            "Requirement already satisfied: mpmath<1.4,>=1.1.0 in /usr/local/lib/python3.10/dist-packages (from sympy->torch->higher) (1.3.0)\n",
            "Downloading higher-0.2.1-py3-none-any.whl (27 kB)\n",
            "Installing collected packages: higher\n",
            "Successfully installed higher-0.2.1\n"
          ]
        }
      ]
    },
    {
      "cell_type": "markdown",
      "source": [
        "import higher # for maml implementaion"
      ],
      "metadata": {
        "id": "-ya72XxkkRg3"
      }
    },
    {
      "cell_type": "code",
      "source": [
        "import higher"
      ],
      "metadata": {
        "id": "3I5eF6UYkPgw"
      },
      "execution_count": 10,
      "outputs": []
    },
    {
      "cell_type": "markdown",
      "source": [
        "Hyper parameters. We are doing 5 way 1 shot classification. The training will run for 100 iterations and each iteration will have 16 sampled tasks. The q_query parameter tells us that the support set have 25 images."
      ],
      "metadata": {
        "id": "UG_3C5i6LbMh"
      }
    },
    {
      "cell_type": "code",
      "source": [
        "n_way = 5          # Number of classes per task\n",
        "k_shot = 1         # Number of examples per class in the support set\n",
        "q_query = 5        # Number of examples per class in the query set\n",
        "inner_steps = 1    # Number of inner loop updates\n",
        "inner_lr = 0.01    # Learning rate for inner loop\n",
        "meta_lr = 0.001    # Learning rate for meta optimizer\n",
        "meta_batch_size = 16  # Number of tasks per meta-batch\n",
        "meta_iterations = 10  # Total number of meta-training iterations\n"
      ],
      "metadata": {
        "id": "dxBjmzgTkO6g"
      },
      "execution_count": 19,
      "outputs": []
    },
    {
      "cell_type": "markdown",
      "source": [
        "Model initaialization. Also, setting up the loss function, optimizer, learning rate scheduler and early stopping."
      ],
      "metadata": {
        "id": "pgr8EwWGMhYT"
      }
    },
    {
      "cell_type": "code",
      "source": [
        "encoder = CNNEncoder(hidden_size=64).to(device)\n",
        "feature_size = 64 * 3 * 3  # Based on CNN output dimensions\n",
        "hidden_size = 128\n",
        "rnn_learner = RNNMetaLearner(input_size=feature_size, hidden_size=hidden_size, n_way=n_way).to(device)\n",
        "model = MetaLearner(encoder, rnn_learner).to(device)\n",
        "\n",
        "meta_optimizer = optim.Adam(model.parameters(), lr=meta_lr)\n",
        "loss_fn = nn.CrossEntropyLoss()\n",
        "\n",
        "# Initialize the learning rate scheduler\n",
        "from torch.optim.lr_scheduler import StepLR\n",
        "scheduler = StepLR(meta_optimizer, step_size=2000, gamma=0.5)\n",
        "\n",
        "# Early Stopping Parameters\n",
        "patience = 5        # Number of epochs to wait for improvement\n",
        "min_delta = 0.001   # Minimum change in validation loss to qualify as improvement\n",
        "best_val_loss = float('inf')\n",
        "patience_counter = 0\n"
      ],
      "metadata": {
        "id": "Dyk44m0JkaXj"
      },
      "execution_count": 12,
      "outputs": []
    },
    {
      "cell_type": "markdown",
      "source": [
        "# Meta Training\n",
        "\n",
        "In the inner loop for each task, the support set is feeded in and the MetaLearner will make predictions on the support set. Cross Entropy loss is calulated for these predicitions and the inner loop's weights are temporarily updated. These updates are not final. The weight updates in the inner loop are task-specific and only exist for the duration of that task. These updates are rolled back after each task is completed. By wrapping the model and optimizer with higher.innerloop_ctx(), we can update the inner loop's weights temporarily for the task without permanently altering the original model's parameters.\n",
        "\n",
        "The outer loop aggregates the information from the inner loops across all tasks to update the global parameters. The total meta-loss is the sum of the query losses across all tasks. This is a measure of how well the adapted parameters generalize to the query set."
      ],
      "metadata": {
        "id": "sjaA1IFlkfd9"
      }
    },
    {
      "cell_type": "code",
      "source": [
        "meta_train_loss = []\n",
        "val_loss_history = []\n",
        "\n",
        "for iteration in range(meta_iterations):\n",
        "    model.train()\n",
        "    meta_optimizer.zero_grad()\n",
        "    meta_loss = 0\n",
        "\n",
        "    for task in range(meta_batch_size):\n",
        "        # Sample a task from the training set\n",
        "        support_set, query_set = train_dataset.get_episode(n_way, k_shot, q_query)\n",
        "        support_x = torch.stack([x for x, y in support_set]).to(device)  # [seq_len_s, channels, height, width]\n",
        "        support_y = torch.tensor([y for x, y in support_set]).long().to(device)  # [seq_len_s]\n",
        "\n",
        "        query_x = torch.stack([x for x, y in query_set]).to(device)      # [seq_len_q, channels, height, width]\n",
        "        query_y = torch.tensor([y for x, y in query_set]).long().to(device)      # [seq_len_q]\n",
        "\n",
        "        # Inner loop\n",
        "        with higher.innerloop_ctx(model, meta_optimizer, copy_initial_weights=False) as (fmodel, diffopt):\n",
        "            for _ in range(inner_steps):\n",
        "                support_logits = fmodel(support_x)       # [seq_len_s, n_way]\n",
        "                support_loss = loss_fn(support_logits, support_y)\n",
        "                diffopt.step(support_loss)\n",
        "\n",
        "            # Compute query loss\n",
        "            query_logits = fmodel(query_x)               # [seq_len_q, n_way]\n",
        "            query_loss = loss_fn(query_logits, query_y)\n",
        "            meta_loss += query_loss  # Accumulate the query loss tensor\n",
        "\n",
        "        # Optionally, print task-level losses\n",
        "        print(f'Iteration {iteration+1}, Task {task + 1}/{meta_batch_size}, Support Loss: {support_loss.item():.4f}, Query Loss: {query_loss.item():.4f}')\n",
        "\n",
        "    # Meta-optimization step\n",
        "    meta_loss /= meta_batch_size\n",
        "    meta_loss.backward()\n",
        "    meta_optimizer.step()\n",
        "    scheduler.step()  # Update the learning rate\n",
        "\n",
        "    meta_train_loss.append(meta_loss.item())\n",
        "\n",
        "    # Log the meta loss and learning rate\n",
        "    current_lr = meta_optimizer.param_groups[0]['lr']\n",
        "    print(f'Iteration {iteration+1}/{meta_iterations}, Meta Loss: {meta_loss.item():.4f}, LR: {current_lr:.6f}')\n",
        "\n",
        "    # Evaluate on the validation set every 100 iterations\n",
        "    if (iteration + 1) % 100 == 0:\n",
        "        model.eval()\n",
        "        val_loss = 0\n",
        "        val_tasks = 20  # Number of validation tasks\n",
        "        with torch.no_grad():\n",
        "            for val_task in range(val_tasks):\n",
        "                support_set, query_set = val_dataset.get_episode(n_way, k_shot, q_query)\n",
        "                support_x = torch.stack([x for x, y in support_set]).to(device)\n",
        "                support_y = torch.tensor([y for x, y in support_set]).long().to(device)\n",
        "\n",
        "                query_x = torch.stack([x for x, y in query_set]).to(device)\n",
        "                query_y = torch.tensor([y for x, y in query_set]).long().to(device)\n",
        "\n",
        "                # Inner loop\n",
        "                with higher.innerloop_ctx(model, meta_optimizer, copy_initial_weights=False) as (fmodel, diffopt):\n",
        "                    for _ in range(inner_steps):\n",
        "                        support_logits = fmodel(support_x)\n",
        "                        support_loss = loss_fn(support_logits, support_y)\n",
        "                        diffopt.step(support_loss)\n",
        "\n",
        "                    # Compute query loss\n",
        "                    query_logits = fmodel(query_x)\n",
        "                    query_loss = loss_fn(query_logits, query_y)\n",
        "                    val_loss += query_loss.item()\n",
        "\n",
        "                # print validation task losses\n",
        "                print(f'Validation Task {val_task + 1}/{val_tasks}, Query Loss: {query_loss.item():.4f}')\n",
        "\n",
        "        val_loss /= val_tasks\n",
        "        val_loss_history.append(val_loss)\n",
        "\n",
        "        # Early Stopping Check\n",
        "        if val_loss < best_val_loss - min_delta:\n",
        "            best_val_loss = val_loss\n",
        "            patience_counter = 0\n",
        "            # save the model checkpoint\n",
        "            torch.save(model.state_dict(), 'best_model.pth')\n",
        "        else:\n",
        "            patience_counter += 1\n",
        "            if patience_counter >= patience:\n",
        "                print(f'Early stopping at iteration {iteration+1}')\n",
        "                break  # Exit the training loop\n",
        "\n",
        "        # validation loss\n",
        "        print(f'Validation Loss after iteration {iteration+1}: {val_loss:.4f}')\n",
        "\n",
        "    model.train()\n"
      ],
      "metadata": {
        "id": "lhjb5dJMkg1r",
        "colab": {
          "base_uri": "https://localhost:8080/"
        },
        "outputId": "d513265e-4140-460a-d6e9-b2af2bb59903"
      },
      "execution_count": 20,
      "outputs": [
        {
          "output_type": "stream",
          "name": "stdout",
          "text": [
            "Iteration 1, Task 1/16, Support Loss: 3.4554, Query Loss: 0.1182\n",
            "Iteration 1, Task 2/16, Support Loss: 3.6974, Query Loss: 0.1269\n",
            "Iteration 1, Task 3/16, Support Loss: 3.6301, Query Loss: 0.0997\n",
            "Iteration 1, Task 4/16, Support Loss: 3.6497, Query Loss: 0.0964\n",
            "Iteration 1, Task 5/16, Support Loss: 3.4940, Query Loss: 0.1497\n",
            "Iteration 1, Task 6/16, Support Loss: 3.6802, Query Loss: 0.0969\n",
            "Iteration 1, Task 7/16, Support Loss: 3.6442, Query Loss: 0.1181\n",
            "Iteration 1, Task 8/16, Support Loss: 3.5780, Query Loss: 0.1018\n",
            "Iteration 1, Task 9/16, Support Loss: 3.6002, Query Loss: 0.0882\n",
            "Iteration 1, Task 10/16, Support Loss: 3.4845, Query Loss: 0.1064\n",
            "Iteration 1, Task 11/16, Support Loss: 3.5770, Query Loss: 0.1070\n",
            "Iteration 1, Task 12/16, Support Loss: 3.6193, Query Loss: 0.1160\n",
            "Iteration 1, Task 13/16, Support Loss: 3.6065, Query Loss: 0.0962\n",
            "Iteration 1, Task 14/16, Support Loss: 3.5474, Query Loss: 0.0972\n",
            "Iteration 1, Task 15/16, Support Loss: 3.7860, Query Loss: 0.0966\n",
            "Iteration 1, Task 16/16, Support Loss: 3.5622, Query Loss: 0.1059\n",
            "Iteration 1/10, Meta Loss: 0.1076, LR: 0.001000\n",
            "Iteration 2, Task 1/16, Support Loss: 3.6753, Query Loss: 0.1239\n",
            "Iteration 2, Task 2/16, Support Loss: 3.5100, Query Loss: 0.0956\n",
            "Iteration 2, Task 3/16, Support Loss: 3.7350, Query Loss: 0.1225\n",
            "Iteration 2, Task 4/16, Support Loss: 3.5347, Query Loss: 0.1199\n",
            "Iteration 2, Task 5/16, Support Loss: 3.6042, Query Loss: 0.1282\n",
            "Iteration 2, Task 6/16, Support Loss: 3.7196, Query Loss: 0.1447\n",
            "Iteration 2, Task 7/16, Support Loss: 3.6247, Query Loss: 0.1227\n",
            "Iteration 2, Task 8/16, Support Loss: 3.6926, Query Loss: 0.1179\n",
            "Iteration 2, Task 9/16, Support Loss: 3.6330, Query Loss: 0.1003\n",
            "Iteration 2, Task 10/16, Support Loss: 3.6540, Query Loss: 0.1201\n",
            "Iteration 2, Task 11/16, Support Loss: 3.5884, Query Loss: 0.1271\n",
            "Iteration 2, Task 12/16, Support Loss: 3.6500, Query Loss: 0.1102\n",
            "Iteration 2, Task 13/16, Support Loss: 3.5325, Query Loss: 0.1218\n",
            "Iteration 2, Task 14/16, Support Loss: 3.6241, Query Loss: 0.0942\n",
            "Iteration 2, Task 15/16, Support Loss: 3.6077, Query Loss: 0.1231\n",
            "Iteration 2, Task 16/16, Support Loss: 3.6214, Query Loss: 0.0981\n",
            "Iteration 2/10, Meta Loss: 0.1169, LR: 0.001000\n",
            "Iteration 3, Task 1/16, Support Loss: 3.6709, Query Loss: 0.0998\n",
            "Iteration 3, Task 2/16, Support Loss: 3.6359, Query Loss: 0.0896\n",
            "Iteration 3, Task 3/16, Support Loss: 3.6507, Query Loss: 0.0956\n",
            "Iteration 3, Task 4/16, Support Loss: 3.5889, Query Loss: 0.0984\n",
            "Iteration 3, Task 5/16, Support Loss: 3.4620, Query Loss: 0.1110\n",
            "Iteration 3, Task 6/16, Support Loss: 3.6751, Query Loss: 0.0996\n",
            "Iteration 3, Task 7/16, Support Loss: 3.7049, Query Loss: 0.1860\n",
            "Iteration 3, Task 8/16, Support Loss: 3.6077, Query Loss: 0.1059\n",
            "Iteration 3, Task 9/16, Support Loss: 3.6055, Query Loss: 0.1498\n",
            "Iteration 3, Task 10/16, Support Loss: 3.5917, Query Loss: 0.1046\n",
            "Iteration 3, Task 11/16, Support Loss: 3.6525, Query Loss: 0.0935\n",
            "Iteration 3, Task 12/16, Support Loss: 3.6635, Query Loss: 0.1187\n",
            "Iteration 3, Task 13/16, Support Loss: 3.5464, Query Loss: 0.0933\n",
            "Iteration 3, Task 14/16, Support Loss: 3.6003, Query Loss: 0.0985\n",
            "Iteration 3, Task 15/16, Support Loss: 3.5159, Query Loss: 0.0960\n",
            "Iteration 3, Task 16/16, Support Loss: 3.6430, Query Loss: 0.0968\n",
            "Iteration 3/10, Meta Loss: 0.1086, LR: 0.001000\n",
            "Iteration 4, Task 1/16, Support Loss: 3.6902, Query Loss: 0.0988\n",
            "Iteration 4, Task 2/16, Support Loss: 3.4658, Query Loss: 0.1388\n",
            "Iteration 4, Task 3/16, Support Loss: 3.6791, Query Loss: 0.0916\n",
            "Iteration 4, Task 4/16, Support Loss: 3.4207, Query Loss: 0.1201\n",
            "Iteration 4, Task 5/16, Support Loss: 3.6555, Query Loss: 0.0950\n",
            "Iteration 4, Task 6/16, Support Loss: 3.7330, Query Loss: 0.0893\n",
            "Iteration 4, Task 7/16, Support Loss: 3.6664, Query Loss: 0.1078\n",
            "Iteration 4, Task 8/16, Support Loss: 3.5953, Query Loss: 0.1163\n",
            "Iteration 4, Task 9/16, Support Loss: 3.6904, Query Loss: 0.1040\n",
            "Iteration 4, Task 10/16, Support Loss: 3.6674, Query Loss: 0.1044\n",
            "Iteration 4, Task 11/16, Support Loss: 3.4913, Query Loss: 0.1007\n",
            "Iteration 4, Task 12/16, Support Loss: 3.6061, Query Loss: 0.1130\n",
            "Iteration 4, Task 13/16, Support Loss: 3.6386, Query Loss: 0.0923\n",
            "Iteration 4, Task 14/16, Support Loss: 3.7306, Query Loss: 0.1252\n",
            "Iteration 4, Task 15/16, Support Loss: 3.6397, Query Loss: 0.0975\n",
            "Iteration 4, Task 16/16, Support Loss: 3.5942, Query Loss: 0.0968\n",
            "Iteration 4/10, Meta Loss: 0.1057, LR: 0.001000\n",
            "Iteration 5, Task 1/16, Support Loss: 3.7010, Query Loss: 0.0865\n",
            "Iteration 5, Task 2/16, Support Loss: 3.7136, Query Loss: 0.0946\n",
            "Iteration 5, Task 3/16, Support Loss: 3.7230, Query Loss: 0.0962\n",
            "Iteration 5, Task 4/16, Support Loss: 3.7863, Query Loss: 0.1402\n",
            "Iteration 5, Task 5/16, Support Loss: 3.6060, Query Loss: 0.2522\n",
            "Iteration 5, Task 6/16, Support Loss: 3.6371, Query Loss: 0.1043\n",
            "Iteration 5, Task 7/16, Support Loss: 3.7213, Query Loss: 0.1062\n",
            "Iteration 5, Task 8/16, Support Loss: 3.7991, Query Loss: 0.1082\n",
            "Iteration 5, Task 9/16, Support Loss: 3.4956, Query Loss: 0.0936\n",
            "Iteration 5, Task 10/16, Support Loss: 3.5730, Query Loss: 0.1258\n",
            "Iteration 5, Task 11/16, Support Loss: 3.5405, Query Loss: 0.0911\n",
            "Iteration 5, Task 12/16, Support Loss: 3.6847, Query Loss: 0.0968\n",
            "Iteration 5, Task 13/16, Support Loss: 3.7835, Query Loss: 0.0983\n",
            "Iteration 5, Task 14/16, Support Loss: 3.6769, Query Loss: 0.0942\n",
            "Iteration 5, Task 15/16, Support Loss: 3.5829, Query Loss: 0.1432\n",
            "Iteration 5, Task 16/16, Support Loss: 3.6752, Query Loss: 0.0976\n",
            "Iteration 5/10, Meta Loss: 0.1143, LR: 0.001000\n",
            "Iteration 6, Task 1/16, Support Loss: 3.7155, Query Loss: 0.0840\n",
            "Iteration 6, Task 2/16, Support Loss: 3.5898, Query Loss: 0.0884\n",
            "Iteration 6, Task 3/16, Support Loss: 3.5840, Query Loss: 0.0953\n",
            "Iteration 6, Task 4/16, Support Loss: 3.5684, Query Loss: 0.1072\n",
            "Iteration 6, Task 5/16, Support Loss: 3.5071, Query Loss: 0.1081\n",
            "Iteration 6, Task 6/16, Support Loss: 3.5107, Query Loss: 0.0931\n",
            "Iteration 6, Task 7/16, Support Loss: 3.6449, Query Loss: 0.1242\n",
            "Iteration 6, Task 8/16, Support Loss: 3.6464, Query Loss: 0.0864\n",
            "Iteration 6, Task 9/16, Support Loss: 3.6735, Query Loss: 0.0908\n",
            "Iteration 6, Task 10/16, Support Loss: 3.6201, Query Loss: 0.1092\n",
            "Iteration 6, Task 11/16, Support Loss: 3.5101, Query Loss: 0.0923\n",
            "Iteration 6, Task 12/16, Support Loss: 3.6186, Query Loss: 0.0950\n",
            "Iteration 6, Task 13/16, Support Loss: 3.6673, Query Loss: 0.1122\n",
            "Iteration 6, Task 14/16, Support Loss: 3.6388, Query Loss: 0.1694\n",
            "Iteration 6, Task 15/16, Support Loss: 3.4700, Query Loss: 0.0977\n",
            "Iteration 6, Task 16/16, Support Loss: 3.5360, Query Loss: 0.2024\n",
            "Iteration 6/10, Meta Loss: 0.1097, LR: 0.001000\n",
            "Iteration 7, Task 1/16, Support Loss: 3.7296, Query Loss: 0.0935\n",
            "Iteration 7, Task 2/16, Support Loss: 3.6528, Query Loss: 0.0892\n",
            "Iteration 7, Task 3/16, Support Loss: 3.7488, Query Loss: 0.1196\n",
            "Iteration 7, Task 4/16, Support Loss: 3.7276, Query Loss: 0.1123\n",
            "Iteration 7, Task 5/16, Support Loss: 3.7364, Query Loss: 0.0832\n",
            "Iteration 7, Task 6/16, Support Loss: 3.6764, Query Loss: 0.0847\n",
            "Iteration 7, Task 7/16, Support Loss: 3.7944, Query Loss: 0.1338\n",
            "Iteration 7, Task 8/16, Support Loss: 3.7950, Query Loss: 0.0805\n",
            "Iteration 7, Task 9/16, Support Loss: 3.5368, Query Loss: 0.0914\n",
            "Iteration 7, Task 10/16, Support Loss: 3.6150, Query Loss: 0.0850\n",
            "Iteration 7, Task 11/16, Support Loss: 3.6273, Query Loss: 0.1163\n",
            "Iteration 7, Task 12/16, Support Loss: 3.8425, Query Loss: 0.0948\n",
            "Iteration 7, Task 13/16, Support Loss: 3.7542, Query Loss: 0.0987\n",
            "Iteration 7, Task 14/16, Support Loss: 3.5972, Query Loss: 0.0834\n",
            "Iteration 7, Task 15/16, Support Loss: 3.6576, Query Loss: 0.1045\n",
            "Iteration 7, Task 16/16, Support Loss: 3.6209, Query Loss: 0.0972\n",
            "Iteration 7/10, Meta Loss: 0.0980, LR: 0.001000\n",
            "Iteration 8, Task 1/16, Support Loss: 3.8747, Query Loss: 0.0800\n",
            "Iteration 8, Task 2/16, Support Loss: 3.7456, Query Loss: 0.0883\n",
            "Iteration 8, Task 3/16, Support Loss: 3.7560, Query Loss: 0.1009\n",
            "Iteration 8, Task 4/16, Support Loss: 3.6341, Query Loss: 0.1144\n",
            "Iteration 8, Task 5/16, Support Loss: 3.6589, Query Loss: 0.0764\n",
            "Iteration 8, Task 6/16, Support Loss: 3.6326, Query Loss: 0.1060\n",
            "Iteration 8, Task 7/16, Support Loss: 3.7936, Query Loss: 0.1212\n",
            "Iteration 8, Task 8/16, Support Loss: 3.7392, Query Loss: 0.1132\n",
            "Iteration 8, Task 9/16, Support Loss: 3.6445, Query Loss: 0.0988\n",
            "Iteration 8, Task 10/16, Support Loss: 3.6421, Query Loss: 0.0850\n",
            "Iteration 8, Task 11/16, Support Loss: 3.4574, Query Loss: 0.1001\n",
            "Iteration 8, Task 12/16, Support Loss: 3.7307, Query Loss: 0.1389\n",
            "Iteration 8, Task 13/16, Support Loss: 3.5828, Query Loss: 0.0861\n",
            "Iteration 8, Task 14/16, Support Loss: 3.9954, Query Loss: 0.0871\n",
            "Iteration 8, Task 15/16, Support Loss: 3.6777, Query Loss: 0.0927\n",
            "Iteration 8, Task 16/16, Support Loss: 3.7551, Query Loss: 0.0937\n",
            "Iteration 8/10, Meta Loss: 0.0989, LR: 0.001000\n",
            "Iteration 9, Task 1/16, Support Loss: 3.7469, Query Loss: 0.0964\n",
            "Iteration 9, Task 2/16, Support Loss: 3.7073, Query Loss: 0.0787\n",
            "Iteration 9, Task 3/16, Support Loss: 3.7034, Query Loss: 0.0886\n",
            "Iteration 9, Task 4/16, Support Loss: 3.8011, Query Loss: 0.1410\n",
            "Iteration 9, Task 5/16, Support Loss: 3.9114, Query Loss: 0.0874\n",
            "Iteration 9, Task 6/16, Support Loss: 3.9246, Query Loss: 0.0829\n",
            "Iteration 9, Task 7/16, Support Loss: 3.8112, Query Loss: 0.1183\n",
            "Iteration 9, Task 8/16, Support Loss: 3.7511, Query Loss: 0.1000\n",
            "Iteration 9, Task 9/16, Support Loss: 3.6924, Query Loss: 0.0972\n",
            "Iteration 9, Task 10/16, Support Loss: 3.8138, Query Loss: 0.0846\n",
            "Iteration 9, Task 11/16, Support Loss: 3.5848, Query Loss: 0.0884\n",
            "Iteration 9, Task 12/16, Support Loss: 3.6478, Query Loss: 0.0817\n",
            "Iteration 9, Task 13/16, Support Loss: 3.6780, Query Loss: 0.1054\n",
            "Iteration 9, Task 14/16, Support Loss: 3.8342, Query Loss: 0.0868\n",
            "Iteration 9, Task 15/16, Support Loss: 3.6671, Query Loss: 0.0987\n",
            "Iteration 9, Task 16/16, Support Loss: 3.6895, Query Loss: 0.1073\n",
            "Iteration 9/10, Meta Loss: 0.0964, LR: 0.001000\n",
            "Iteration 10, Task 1/16, Support Loss: 3.9046, Query Loss: 0.0803\n",
            "Iteration 10, Task 2/16, Support Loss: 3.6661, Query Loss: 0.0812\n",
            "Iteration 10, Task 3/16, Support Loss: 3.7433, Query Loss: 0.1601\n",
            "Iteration 10, Task 4/16, Support Loss: 3.7699, Query Loss: 0.1145\n",
            "Iteration 10, Task 5/16, Support Loss: 3.8530, Query Loss: 0.0881\n",
            "Iteration 10, Task 6/16, Support Loss: 3.7730, Query Loss: 0.1073\n",
            "Iteration 10, Task 7/16, Support Loss: 3.8093, Query Loss: 0.0826\n",
            "Iteration 10, Task 8/16, Support Loss: 3.7155, Query Loss: 0.1047\n",
            "Iteration 10, Task 9/16, Support Loss: 3.6798, Query Loss: 0.0818\n",
            "Iteration 10, Task 10/16, Support Loss: 3.6048, Query Loss: 0.0922\n",
            "Iteration 10, Task 11/16, Support Loss: 3.8582, Query Loss: 0.0925\n",
            "Iteration 10, Task 12/16, Support Loss: 3.8280, Query Loss: 0.0834\n",
            "Iteration 10, Task 13/16, Support Loss: 3.8051, Query Loss: 0.0832\n",
            "Iteration 10, Task 14/16, Support Loss: 3.7115, Query Loss: 0.1231\n",
            "Iteration 10, Task 15/16, Support Loss: 3.5884, Query Loss: 0.0871\n",
            "Iteration 10, Task 16/16, Support Loss: 3.9307, Query Loss: 0.1729\n",
            "Iteration 10/10, Meta Loss: 0.1022, LR: 0.001000\n"
          ]
        }
      ]
    },
    {
      "cell_type": "markdown",
      "source": [
        "# Testing"
      ],
      "metadata": {
        "id": "_j2gct1Ap6cI"
      }
    },
    {
      "cell_type": "code",
      "source": [
        "def meta_test(model, dataset, n_way, k_shot, q_query, inner_steps, inner_lr, num_tasks=100):\n",
        "    correct = 0\n",
        "    total = 0\n",
        "\n",
        "    for _ in range(num_tasks):\n",
        "        support_set, query_set = dataset.get_episode(n_way, k_shot, q_query)\n",
        "        support_x = torch.stack([x for x, y in support_set]).to(device)\n",
        "        support_y = torch.tensor([y for x, y in support_set]).long().to(device)\n",
        "\n",
        "        query_x = torch.stack([x for x, y in query_set]).to(device)\n",
        "        query_y = torch.tensor([y for x, y in query_set]).long().to(device)\n",
        "\n",
        "        # Inner loop\n",
        "        with higher.innerloop_ctx(model, meta_optimizer, copy_initial_weights=False) as (fmodel, diffopt):\n",
        "            for _ in range(inner_steps):\n",
        "                support_logits = fmodel(support_x)\n",
        "                support_loss = loss_fn(support_logits, support_y)\n",
        "                diffopt.step(support_loss)\n",
        "\n",
        "            # Compute query predictions\n",
        "            query_logits = fmodel(query_x)\n",
        "            pred = torch.argmax(query_logits, dim=1)\n",
        "            correct += (pred == query_y).sum().item()\n",
        "            total += query_y.size(0)\n",
        "\n",
        "    accuracy = correct / total * 100\n",
        "    return accuracy\n"
      ],
      "metadata": {
        "id": "tCvnL1N5p7NL"
      },
      "execution_count": 21,
      "outputs": []
    },
    {
      "cell_type": "code",
      "source": [
        "test_accuracy = meta_test(model, test_dataset, n_way, k_shot, q_query, inner_steps, inner_lr, num_tasks=100)\n",
        "print(f'Test Accuracy: {test_accuracy:.2f}%')\n"
      ],
      "metadata": {
        "colab": {
          "base_uri": "https://localhost:8080/"
        },
        "id": "XvD2qW0_p9ba",
        "outputId": "12e23c98-77fe-4c0f-b477-a0ff6adaee10"
      },
      "execution_count": 22,
      "outputs": [
        {
          "output_type": "stream",
          "name": "stdout",
          "text": [
            "Test Accuracy: 94.36%\n"
          ]
        }
      ]
    },
    {
      "cell_type": "code",
      "source": [
        "plt.figure(figsize=(10, 5))\n",
        "plt.plot(meta_train_loss)\n",
        "plt.title('Meta-Training Loss')\n",
        "plt.xlabel('Iteration')\n",
        "plt.ylabel('Loss')\n",
        "plt.show()\n"
      ],
      "metadata": {
        "colab": {
          "base_uri": "https://localhost:8080/",
          "height": 487
        },
        "id": "zoELxnXdqBB7",
        "outputId": "d0cd1564-bca9-4857-ae7b-acfd26b43743"
      },
      "execution_count": 23,
      "outputs": [
        {
          "output_type": "display_data",
          "data": {
            "text/plain": [
              "<Figure size 1000x500 with 1 Axes>"
            ],
            "image/png": "[encoded data removed]"
          },
          "metadata": {}
        }
      ]
    }
  ]
}